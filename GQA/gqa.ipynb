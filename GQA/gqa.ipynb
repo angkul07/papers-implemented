{
 "cells": [
  {
   "cell_type": "code",
   "execution_count": 1,
   "id": "8b15eb72",
   "metadata": {},
   "outputs": [],
   "source": [
    "import torch\n",
    "import torch.nn as nn\n",
    "import math"
   ]
  },
  {
   "cell_type": "code",
   "execution_count": 2,
   "id": "d24f50e3",
   "metadata": {},
   "outputs": [],
   "source": [
    "class GQA(nn.Module):\n",
    "    def __init__(self, query_heads, groups, head_dim, embed_dim):\n",
    "        super().__init__()\n",
    "\n",
    "        assert query_heads%groups == 0, \"query heads must be multiple of groups\"\n",
    "\n",
    "        self.query_heads = query_heads\n",
    "        self.groups = groups\n",
    "        self.head_dim = head_dim\n",
    "        self.embed_dim = embed_dim\n",
    "        self.query_per_group = self.query_heads//self.groups\n",
    "\n",
    "        self.q_proj = nn.Linear(self.embed_dim, self.query_heads * self.head_dim, bias=False)\n",
    "        self.k_proj = nn.Linear(self.embed_dim, self.groups * self.head_dim, bias=False)\n",
    "        self.v_proj = nn.Linear(self.embed_dim, self.groups * self.head_dim, bias=False)\n",
    "\n",
    "        self.output_proj = nn.Linear(self.query_heads * self.head_dim, self.embed_dim, bias=False)\n",
    "\n",
    "    def forward(self, x, kv_x = None, attention_mask = None):\n",
    "        batch, seq_len, _ = x.size()\n",
    "\n",
    "        if kv_x is None:\n",
    "            kv_x = x\n",
    "\n",
    "        kv_batch, kv_seq_len, _ = kv_x.size()\n",
    "\n",
    "        q = self.q_proj(x)\n",
    "        k = self.k_proj(kv_x)\n",
    "        v = self.v_proj(kv_x)\n",
    "\n",
    "        q = q.view(batch, seq_len, self.query_heads, self.head_dim).permute(0, 2, 1, 3)\n",
    "        k = k.view(batch, kv_seq_len, self.groups, self.head_dim).permute(0, 2, 1, 3)\n",
    "        v = v.view(batch, kv_seq_len, self.groups, self.head_dim).permute(0, 2, 1, 3)\n",
    "\n",
    "        # GROUPING\n",
    "        # for k\n",
    "        k_expanded = k.unsqueeze(2)\n",
    "        k_expanded = k_expanded.repeat(1, 1, self.query_per_group, 1, 1)\n",
    "        k_expanded = k_expanded.view(batch, self.query_heads, kv_seq_len, self.head_dim)\n",
    "\n",
    "        # for v\n",
    "        v_expanded = v.unsqueeze(2)\n",
    "        v_expanded = v_expanded.repeat(1, 1, self.query_per_group, 1, 1)\n",
    "        v_expanded = v_expanded.view(batch, self.query_heads, kv_seq_len, self.head_dim)\n",
    "\n",
    "        att_scores = torch.matmul(q, k_expanded.transpose(-1, -2))\n",
    "        att_scores = att_scores/math.sqrt(self.head_dim)\n",
    "\n",
    "        if attention_mask is not None:\n",
    "            att_scores = att_scores + attention_mask\n",
    "\n",
    "\n",
    "        att_probs = torch.softmax(att_scores, dim=-1)\n",
    "\n",
    "        context_layer = torch.matmul(att_probs, v_expanded)\n",
    "        context_layer = context_layer.permute(0, 2, 1, 3).contiguous()\n",
    "\n",
    "        context_layer = context_layer.view(batch, seq_len, self.query_heads*self.head_dim)\n",
    "\n",
    "        result = self.output_proj(context_layer)\n",
    "\n",
    "        return result\n",
    "        "
   ]
  },
  {
   "cell_type": "code",
   "execution_count": 4,
   "id": "1537e1a9",
   "metadata": {},
   "outputs": [
    {
     "name": "stdout",
     "output_type": "stream",
     "text": [
      "Input shape: torch.Size([2, 16, 64])\n",
      "Output shape: torch.Size([2, 16, 64])\n"
     ]
    }
   ],
   "source": [
    "batch_size = 2\n",
    "seq_len = 16\n",
    "embed_dim = 64\n",
    "head_dim = 8\n",
    "query_heads = 8\n",
    "groups = 4\n",
    "\n",
    "x = torch.randn(batch_size, seq_len, embed_dim)\n",
    "\n",
    "gqa = GQA(query_heads=query_heads, groups=groups, head_dim=head_dim, embed_dim=embed_dim)\n",
    "\n",
    "output = gqa(x)\n",
    "\n",
    "print(\"Input shape:\", x.shape)\n",
    "print(\"Output shape:\", output.shape)"
   ]
  }
 ],
 "metadata": {
  "kernelspec": {
   "display_name": ".mlenv",
   "language": "python",
   "name": "python3"
  },
  "language_info": {
   "codemirror_mode": {
    "name": "ipython",
    "version": 3
   },
   "file_extension": ".py",
   "mimetype": "text/x-python",
   "name": "python",
   "nbconvert_exporter": "python",
   "pygments_lexer": "ipython3",
   "version": "3.10.12"
  }
 },
 "nbformat": 4,
 "nbformat_minor": 5
}
