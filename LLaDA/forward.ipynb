{
 "cells": [
  {
   "cell_type": "code",
   "execution_count": 1,
   "id": "7112745e",
   "metadata": {},
   "outputs": [],
   "source": [
    "import torch\n",
    "import torch.nn as nn\n",
    "import torch.nn.functional as F"
   ]
  },
  {
   "cell_type": "code",
   "execution_count": 2,
   "id": "6e484da3",
   "metadata": {},
   "outputs": [],
   "source": [
    "class multihead(nn.Module):\n",
    "    def __init__(self, d_in, d_out, context_size, n_heads , dropout=0.0):\n",
    "        super().__init__()\n",
    "\n",
    "        assert d_out % n_heads == 0, \"d_in must be divisible by n_heads\"\n",
    "\n",
    "        self.d_in = d_in\n",
    "        self.d_out = d_out\n",
    "        self.n_heads = n_heads\n",
    "        self.context_size = context_size\n",
    "        self.d_head = d_out // n_heads\n",
    "        self.dropout = dropout\n",
    "\n",
    "        self.q = nn.Linear(d_in, d_out, bias=False)\n",
    "        self.k = nn.Linear(d_in, d_out, bias=False)\n",
    "        self.v = nn.Linear(d_in, d_out, bias=False)\n",
    "\n",
    "    def forward(self, x):\n",
    "        b, num_tokens, d_in = x.size()\n",
    "\n",
    "        q = self.q(x).view(b, num_tokens, self.n_heads, self.d_head)\n",
    "        k = self.k(x).view(b, num_tokens, self.n_heads, self.d_head)\n",
    "        v = self.v(x).view(b, num_tokens, self.n_heads, self.d_head)\n",
    "\n",
    "        q = q.permute(0, 2, 1, 3)  # (b, n_heads, num_tokens, d_head)\n",
    "        k = k.permute(0, 2, 1, 3)\n",
    "        v = v.permute(0, 2, 1, 3)\n",
    "\n",
    "        att = F.scaled_dot_product_attention(\n",
    "            q, k, v,\n",
    "            attn_mask=None,\n",
    "            dropout_p=self.dropout,\n",
    "            is_causal=False,\n",
    "        )\n",
    "\n",
    "        att = att.permute(0, 2, 1, 3).contiguous()\n",
    "        att = att.view(b, num_tokens, self.d_out)\n",
    "        return att\n"
   ]
  },
  {
   "cell_type": "code",
   "execution_count": 3,
   "id": "257b3a47",
   "metadata": {},
   "outputs": [],
   "source": [
    "class FeedForward(nn.Module):\n",
    "    def __init__(self, n_embed, dropout=0.0):\n",
    "        super().__init__()\n",
    "        self.net = nn.Sequential(\n",
    "        nn.Linear(n_embed, 4*n_embed),\n",
    "        nn.ReLU(),\n",
    "        nn.Linear(4*n_embed, n_embed),\n",
    "        nn.Dropout(dropout)\n",
    "        )\n",
    "        # self.layer_norm = nn.LayerNorm(d_out)\n",
    "\n",
    "    def forward(self, x):\n",
    "        return self.net(x)"
   ]
  },
  {
   "cell_type": "code",
   "execution_count": null,
   "id": "b8e9abf1",
   "metadata": {},
   "outputs": [],
   "source": [
    "class Block(nn.Module):\n",
    "    def __init__(self, d_in, d_out, context_size, n_heads, dropout=0.0):\n",
    "        super().__init__()\n",
    "        self.att = multihead(d_in, d_out, context_size, n_heads, dropout)\n",
    "        self.ff = FeedForward(d_out, dropout)\n",
    "        self.layer_norm1 = nn.LayerNorm(d_out)\n",
    "        self.layer_norm2 = nn.LayerNorm(d_out)\n",
    "\n",
    "    def forward(self, x):\n",
    "        x = x + self.att(self.layer_norm1(x))\n",
    "        x = x + self.ff(self.layer_norm2(x))\n",
    "        return x"
   ]
  }
 ],
 "metadata": {
  "kernelspec": {
   "display_name": ".mlenv",
   "language": "python",
   "name": "python3"
  },
  "language_info": {
   "codemirror_mode": {
    "name": "ipython",
    "version": 3
   },
   "file_extension": ".py",
   "mimetype": "text/x-python",
   "name": "python",
   "nbconvert_exporter": "python",
   "pygments_lexer": "ipython3",
   "version": "3.10.12"
  }
 },
 "nbformat": 4,
 "nbformat_minor": 5
}
