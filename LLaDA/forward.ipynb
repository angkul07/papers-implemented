{
 "cells": [
  {
   "cell_type": "code",
   "execution_count": 1,
   "id": "7112745e",
   "metadata": {},
   "outputs": [],
   "source": [
    "import torch\n",
    "import torch.nn as nn\n",
    "import torch.nn.functional as F"
   ]
  },
  {
   "cell_type": "code",
   "execution_count": 2,
   "id": "817bbe78",
   "metadata": {},
   "outputs": [],
   "source": [
    "# d_in: input dimension\n",
    "# d_out: output dimension\n",
    "# context_size: number of context words\n",
    "# embedding_dim: dimension of the word embeddings\n",
    "# n_heads: number of attention heads\n",
    "# n_layers: number of transformer layers\n",
    "# d_heads: dimension of each attention head\n",
    "# d_ff: dimension of the feedforward network"
   ]
  },
  {
   "cell_type": "code",
   "execution_count": 3,
   "id": "d073a655",
   "metadata": {},
   "outputs": [],
   "source": [
    "with open('input.txt', 'r', encoding='utf-8') as f:\n",
    "    text = f.read()\n",
    "\n",
    "chars = sorted(list(set(text)))\n",
    "vocab_size = len(chars)\n",
    "stoi = { ch:i for i,ch in enumerate(chars) }\n",
    "itos = { i:ch for i,ch in enumerate(chars) }\n",
    "\n",
    "def encode(s):\n",
    "    return [stoi[c] for c in s]\n",
    "\n",
    "def decode(indices):\n",
    "    return ''.join([itos[i] for i in indices])"
   ]
  },
  {
   "cell_type": "code",
   "execution_count": 4,
   "id": "04d2a60c",
   "metadata": {},
   "outputs": [],
   "source": [
    "data = torch.tensor(encode(text), dtype=torch.float)\n",
    "n = int(0.9*len(data))\n",
    "train_data = data[:n]\n",
    "val_data = data[n:]"
   ]
  },
  {
   "cell_type": "code",
   "execution_count": 5,
   "id": "6e484da3",
   "metadata": {},
   "outputs": [],
   "source": [
    "class multihead(nn.Module):\n",
    "    def __init__(self, d_in, d_out, context_size, n_heads , dropout=0.0):\n",
    "        super().__init__()\n",
    "\n",
    "        assert d_out % n_heads == 0, \"d_in must be divisible by n_heads\"\n",
    "\n",
    "        self.d_in = d_in\n",
    "        self.d_out = d_out\n",
    "        self.n_heads = n_heads\n",
    "        self.context_size = context_size\n",
    "        self.d_head = d_out // n_heads\n",
    "        self.dropout = dropout\n",
    "\n",
    "        self.q = nn.Linear(d_in, d_out, bias=False)\n",
    "        self.k = nn.Linear(d_in, d_out, bias=False)\n",
    "        self.v = nn.Linear(d_in, d_out, bias=False)\n",
    "\n",
    "        self.out = nn.Linear(d_out, d_out, bias=False)\n",
    "\n",
    "    def forward(self, x):\n",
    "        b, num_tokens, d_in = x.size()\n",
    "\n",
    "        q = self.q(x).view(b, num_tokens, self.n_heads, self.d_head)\n",
    "        k = self.k(x).view(b, num_tokens, self.n_heads, self.d_head)\n",
    "        v = self.v(x).view(b, num_tokens, self.n_heads, self.d_head)\n",
    "\n",
    "        q = q.permute(0, 2, 1, 3)  # (b, n_heads, num_tokens, d_head)\n",
    "        k = k.permute(0, 2, 1, 3)\n",
    "        v = v.permute(0, 2, 1, 3)\n",
    "\n",
    "        att = F.scaled_dot_product_attention(\n",
    "            q, k, v,\n",
    "            attn_mask=None,\n",
    "            dropout_p=self.dropout,\n",
    "            is_causal=False,\n",
    "        )\n",
    "\n",
    "        att = att.permute(0, 2, 1, 3).contiguous()\n",
    "        att = att.view(b, num_tokens, self.d_out)\n",
    "\n",
    "        return self.out(att)\n"
   ]
  },
  {
   "cell_type": "code",
   "execution_count": 6,
   "id": "257b3a47",
   "metadata": {},
   "outputs": [],
   "source": [
    "class FeedForward(nn.Module):\n",
    "    def __init__(self, n_embed, dropout=0.0):\n",
    "        super().__init__()\n",
    "        self.net = nn.Sequential(\n",
    "        nn.Linear(n_embed, 4*n_embed),\n",
    "        nn.ReLU(),\n",
    "        nn.Linear(4*n_embed, n_embed),\n",
    "        nn.Dropout(dropout)\n",
    "        )\n",
    "        # self.layer_norm = nn.LayerNorm(d_out)\n",
    "\n",
    "    def forward(self, x):\n",
    "        return self.net(x)"
   ]
  },
  {
   "cell_type": "code",
   "execution_count": 7,
   "id": "b8e9abf1",
   "metadata": {},
   "outputs": [],
   "source": [
    "class Block(nn.Module):\n",
    "    def __init__(self, d_in, d_out, context_size, n_heads, dropout=0.0):\n",
    "        super().__init__()\n",
    "        self.att = multihead(d_in, d_out, context_size, n_heads, dropout)\n",
    "        self.ff = FeedForward(d_out, dropout)\n",
    "        self.layer_norm1 = nn.LayerNorm(d_out)\n",
    "        self.layer_norm2 = nn.LayerNorm(d_out)\n",
    "\n",
    "    def forward(self, x):\n",
    "        x = x + self.att(self.layer_norm1(x))\n",
    "        x = x + self.ff(self.layer_norm2(x))\n",
    "        return x"
   ]
  },
  {
   "cell_type": "code",
   "execution_count": 8,
   "id": "aaa0e51e",
   "metadata": {},
   "outputs": [],
   "source": [
    "## model formation\n",
    "class model(nn.Module):\n",
    "    def __init__(self, d_in, d_out, context_size, n_heads, n_layers, dropout=0.0):\n",
    "        super().__init__()\n",
    "        self.n_layers = n_layers\n",
    "        self.context_size = context_size\n",
    "        self.d_in = d_in\n",
    "        self.d_out = d_out\n",
    "        self.n_heads = n_heads\n",
    "\n",
    "        self.embedding = nn.Embedding(d_in, d_out)\n",
    "        self.pos_embedding = nn.Embedding(context_size, d_out)\n",
    "\n",
    "\n",
    "        self.blocks = nn.Sequential(*[\n",
    "            Block(d_in, d_out, context_size, n_heads, dropout)\n",
    "            for _ in range(n_layers)\n",
    "        ])\n",
    "        self.layer_norm = nn.LayerNorm(d_out)\n",
    "        self.fc = nn.Linear(d_out, d_in)\n",
    "\n",
    "\n",
    "    def forward(self, x):\n",
    "        x = self.embedding(x) + self.pos_embedding(torch.arange(self.context_size).to(x.device))\n",
    "        x = self.blocks(x)\n",
    "        x = self.layer_norm(x)\n",
    "        x = self.fc(x)\n",
    "        return x"
   ]
  },
  {
   "cell_type": "code",
   "execution_count": 9,
   "id": "83e6d34f",
   "metadata": {},
   "outputs": [],
   "source": [
    "def apply_masking(x_true, t):\n",
    "    mask_ids = torch.inf\n",
    "    min_val = 0.001\n",
    "    max_val = 1.001\n",
    "    for i in range(x_true.size(0)):\n",
    "        rand_int = (max_val - min_val) * torch.rand(1) + min_val\n",
    "        print(rand_int)\n",
    "        if rand_int <= t:\n",
    "            x_true[i] = mask_ids\n",
    "        else:\n",
    "            x_true[i] = x_true[i]\n",
    "    return x_true"
   ]
  },
  {
   "cell_type": "code",
   "execution_count": 10,
   "id": "bd082e68",
   "metadata": {},
   "outputs": [
    {
     "name": "stdout",
     "output_type": "stream",
     "text": [
      "tensor([ 5., 13., 13.,  1.,  0.])\n",
      "tensor([0.7954])\n",
      "tensor([0.7376])\n",
      "tensor([0.1871])\n",
      "tensor([0.6954])\n",
      "tensor([0.9860])\n"
     ]
    },
    {
     "data": {
      "text/plain": [
       "tensor([ 5., 13., inf,  1.,  0.])"
      ]
     },
     "execution_count": 10,
     "metadata": {},
     "output_type": "execute_result"
    }
   ],
   "source": [
    "x_0 = train_data[:5]\n",
    "print(x_0)\n",
    "apply_masking(x_0, 0.4)"
   ]
  }
 ],
 "metadata": {
  "kernelspec": {
   "display_name": ".mlenv",
   "language": "python",
   "name": "python3"
  },
  "language_info": {
   "codemirror_mode": {
    "name": "ipython",
    "version": 3
   },
   "file_extension": ".py",
   "mimetype": "text/x-python",
   "name": "python",
   "nbconvert_exporter": "python",
   "pygments_lexer": "ipython3",
   "version": "3.10.12"
  }
 },
 "nbformat": 4,
 "nbformat_minor": 5
}
