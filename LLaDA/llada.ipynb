{
 "cells": [
  {
   "cell_type": "code",
   "execution_count": 1,
   "id": "7112745e",
   "metadata": {},
   "outputs": [],
   "source": [
    "import torch\n",
    "import torch.nn as nn\n",
    "import torch.optim as optim\n",
    "import torch.nn.functional as F"
   ]
  },
  {
   "cell_type": "code",
   "execution_count": 2,
   "id": "817bbe78",
   "metadata": {},
   "outputs": [],
   "source": [
    "# d_in: input dimension\n",
    "# d_out: output dimension\n",
    "# context_size: number of context words\n",
    "# embedding_dim: dimension of the word embeddings\n",
    "# n_heads: number of attention heads\n",
    "# n_layers: number of transformer layers\n",
    "# d_heads: dimension of each attention head\n",
    "# d_ff: dimension of the feedforward network"
   ]
  },
  {
   "cell_type": "code",
   "execution_count": 3,
   "id": "271546d8",
   "metadata": {},
   "outputs": [
    {
     "name": "stdout",
     "output_type": "stream",
     "text": [
      "cuda\n"
     ]
    }
   ],
   "source": [
    "device = torch.device(\"cuda\" if torch.cuda.is_available() else \"cpu\")\n",
    "print(device)\n",
    "batch_size = 16\n",
    "# block_size = 32\n",
    "block_size = 512"
   ]
  },
  {
   "cell_type": "code",
   "execution_count": 4,
   "id": "d073a655",
   "metadata": {},
   "outputs": [],
   "source": [
    "with open('the-verdict.txt', 'r', encoding='utf-8') as f:\n",
    "    text = f.read()\n",
    "\n",
    "chars = sorted(list(set(text)))\n",
    "vocab_size = len(chars)\n",
    "stoi = { ch:i for i,ch in enumerate(chars) }\n",
    "itos = { i:ch for i,ch in enumerate(chars) }\n",
    "\n",
    "def encode(s):\n",
    "    return [stoi[c] for c in s]\n",
    "\n",
    "def decode(indices):\n",
    "    return ''.join([itos[i] for i in indices])"
   ]
  },
  {
   "cell_type": "code",
   "execution_count": 5,
   "id": "04d2a60c",
   "metadata": {},
   "outputs": [],
   "source": [
    "data = torch.tensor(encode(text), dtype=torch.long)\n",
    "n = int(0.9*len(data))\n",
    "train_data = data[:n]\n",
    "val_data = data[n:]"
   ]
  },
  {
   "cell_type": "code",
   "execution_count": 6,
   "id": "3fd2d8ef",
   "metadata": {},
   "outputs": [],
   "source": [
    "def get_batch(split):\n",
    "    data = train_data if split == 'train' else val_data\n",
    "    ix = torch.randint(len(data) - block_size, (batch_size,))\n",
    "    x = torch.stack([data[i:i+block_size] for i in ix])\n",
    "    y = torch.stack([data[i+1:i+block_size+1] for i in ix])\n",
    "    x, y = x.to(device), y.to(device)\n",
    "    return x, y"
   ]
  },
  {
   "cell_type": "code",
   "execution_count": 7,
   "id": "83e6d34f",
   "metadata": {},
   "outputs": [],
   "source": [
    "def apply_masking(x_true, t, mask_ids_tokens):\n",
    "    x_masked = x_true.clone()\n",
    "\n",
    "    random_mask = torch.rand(x_true.shape, device=x_true.device) < t\n",
    "\n",
    "    x_masked[random_mask] = mask_ids_tokens\n",
    "\n",
    "    return x_masked, random_mask"
   ]
  },
  {
   "cell_type": "code",
   "execution_count": 8,
   "id": "585b3016",
   "metadata": {},
   "outputs": [
    {
     "name": "stdout",
     "output_type": "stream",
     "text": [
      "tensor([21,  1, 20, 13, 16])\n"
     ]
    },
    {
     "data": {
      "text/plain": [
       "(tensor([21,  1, 62, 13, 16]), tensor([False, False,  True, False, False]))"
      ]
     },
     "execution_count": 8,
     "metadata": {},
     "output_type": "execute_result"
    }
   ],
   "source": [
    "mask_ids_tokens = vocab_size\n",
    "\n",
    "x_0 = train_data[:5]\n",
    "print(x_0)\n",
    "apply_masking(x_0, 0.4, mask_ids_tokens=mask_ids_tokens)"
   ]
  },
  {
   "cell_type": "code",
   "execution_count": 9,
   "id": "6e484da3",
   "metadata": {},
   "outputs": [],
   "source": [
    "class multihead(nn.Module):\n",
    "    def __init__(self, d_in, d_out, context_size, n_heads , dropout=0.0):\n",
    "        super().__init__()\n",
    "\n",
    "        assert d_out % n_heads == 0, \"d_out must be divisible by n_heads\"\n",
    "\n",
    "        self.d_in = d_in\n",
    "        self.d_out = d_out\n",
    "        self.n_heads = n_heads\n",
    "        self.context_size = context_size\n",
    "        self.d_head = d_out // n_heads\n",
    "        self.dropout = dropout\n",
    "\n",
    "        self.q = nn.Linear(self.d_in, self.d_out, bias=False)\n",
    "        self.v = nn.Linear(self.d_in, self.d_out, bias=False)\n",
    "        self.k = nn.Linear(self.d_in, self.d_out, bias=False)\n",
    "\n",
    "        self.out = nn.Linear(self.d_out, self.d_out, bias=False)\n",
    "\n",
    "    def forward(self, x):\n",
    "        b, num_tokens, d_in = x.size()\n",
    "\n",
    "        q = self.q(x).view(b, num_tokens, self.n_heads, self.d_head)\n",
    "        k = self.k(x).view(b, num_tokens, self.n_heads, self.d_head)\n",
    "        v = self.v(x).view(b, num_tokens, self.n_heads, self.d_head)\n",
    "\n",
    "        q = q.permute(0, 2, 1, 3)  # (b, n_heads, num_tokens, d_head)\n",
    "        k = k.permute(0, 2, 1, 3)\n",
    "        v = v.permute(0, 2, 1, 3)\n",
    "\n",
    "        att = F.scaled_dot_product_attention(\n",
    "            q, k, v,\n",
    "            attn_mask=None,\n",
    "            dropout_p=self.dropout,\n",
    "            is_causal=False,\n",
    "        )\n",
    "\n",
    "        att = att.permute(0, 2, 1, 3).contiguous()\n",
    "        att = att.view(b, num_tokens, self.d_out)\n",
    "\n",
    "        return self.out(att)\n"
   ]
  },
  {
   "cell_type": "code",
   "execution_count": 10,
   "id": "257b3a47",
   "metadata": {},
   "outputs": [],
   "source": [
    "class FeedForward(nn.Module):\n",
    "    def __init__(self, n_embed, dropout=0.0):\n",
    "        super().__init__()\n",
    "        self.net = nn.Sequential(\n",
    "        nn.Linear(n_embed, 4*n_embed),\n",
    "        nn.ReLU(),\n",
    "        nn.Linear(4*n_embed, n_embed),\n",
    "        nn.Dropout(dropout)\n",
    "        )\n",
    "        # self.layer_norm = nn.LayerNorm(d_out)\n",
    "\n",
    "    def forward(self, x):\n",
    "        return self.net(x)"
   ]
  },
  {
   "cell_type": "code",
   "execution_count": 11,
   "id": "b8e9abf1",
   "metadata": {},
   "outputs": [],
   "source": [
    "class Block(nn.Module):\n",
    "    def __init__(self, d_in, d_out, context_size, n_heads, dropout=0.0):\n",
    "        super().__init__()\n",
    "        self.att = multihead(d_in, d_out, context_size, n_heads, dropout)\n",
    "        self.ff = FeedForward(d_out, dropout)\n",
    "        self.layer_norm1 = nn.LayerNorm(d_out)\n",
    "        self.layer_norm2 = nn.LayerNorm(d_out)\n",
    "\n",
    "    def forward(self, x):\n",
    "        x = x + self.att(self.layer_norm1(x))\n",
    "        x = x + self.ff(self.layer_norm2(x))\n",
    "        return x"
   ]
  },
  {
   "cell_type": "code",
   "execution_count": 12,
   "id": "aaa0e51e",
   "metadata": {},
   "outputs": [],
   "source": [
    "## model formation\n",
    "class LLaDA(nn.Module):\n",
    "    def __init__(self, d_in, d_out, context_size, n_heads, n_layers, dropout=0.0):\n",
    "        super().__init__()\n",
    "        self.n_layers = n_layers\n",
    "        self.context_size = context_size\n",
    "        self.d_in = d_in\n",
    "        self.d_out = d_out\n",
    "        self.n_heads = n_heads\n",
    "\n",
    "        self.embedding = nn.Embedding(self.d_in, self.d_out)\n",
    "        self.pos_embedding = nn.Embedding(self.context_size, self.d_out)\n",
    "\n",
    "\n",
    "        self.blocks = nn.Sequential(*[\n",
    "            Block(self.d_out, self.d_out, self.context_size, self.n_heads, dropout)\n",
    "            for _ in range(self.n_layers)\n",
    "        ])\n",
    "        self.layer_norm = nn.LayerNorm(self.d_out)\n",
    "        self.fc = nn.Linear(self.d_out, self.d_in)\n",
    "\n",
    "\n",
    "    def forward(self, x):\n",
    "        b, num_tokens = x.size()\n",
    "\n",
    "        x = self.embedding(x) + self.pos_embedding(torch.arange(num_tokens).to(x.device))\n",
    "        x = self.blocks(x)\n",
    "        x = self.layer_norm(x)\n",
    "        x = self.fc(x)\n",
    "        return x"
   ]
  },
  {
   "cell_type": "code",
   "execution_count": 13,
   "id": "36764ed2",
   "metadata": {},
   "outputs": [
    {
     "data": {
      "text/plain": [
       "62"
      ]
     },
     "execution_count": 13,
     "metadata": {},
     "output_type": "execute_result"
    }
   ],
   "source": [
    "vocab_size"
   ]
  },
  {
   "cell_type": "code",
   "execution_count": 14,
   "id": "4fbd6174",
   "metadata": {},
   "outputs": [],
   "source": [
    "model_embedding_dim = 8\n",
    "res = LLaDA(d_in=vocab_size+1, d_out=model_embedding_dim, context_size=block_size, n_heads=4, n_layers=2)"
   ]
  },
  {
   "cell_type": "code",
   "execution_count": 15,
   "id": "20b48bcd",
   "metadata": {},
   "outputs": [],
   "source": [
    "def compute_loss(x_true):\n",
    "\n",
    "    t_actual = torch.rand(1, device=x_true.device) * (1.0 - 1e-6) + 1e-6\n",
    "\n",
    "    x_masked_input, is_masked_mask = apply_masking(x_true, t_actual.item(), mask_ids_tokens)\n",
    "\n",
    "    logits = res(x_masked_input)\n",
    "\n",
    "    masked_logits = logits.view(-1, logits.size(-1))[is_masked_mask.view(-1)]\n",
    "    masked_targets = x_true.view(-1)[is_masked_mask.view(-1)]\n",
    "\n",
    "    \n",
    "\n",
    "\n",
    "    loss = F.cross_entropy(masked_logits, masked_targets) \n",
    "    loss = loss / t_actual.item()\n",
    "    return loss\n",
    "\n",
    "optimizer = optim.AdamW(res.parameters(), lr=1e-3)"
   ]
  },
  {
   "cell_type": "code",
   "execution_count": 16,
   "id": "ea7d7b5a",
   "metadata": {},
   "outputs": [
    {
     "name": "stdout",
     "output_type": "stream",
     "text": [
      "Epoch 1/200, Loss: 5.4556\n",
      "Epoch 101/200, Loss: 42.8259\n"
     ]
    }
   ],
   "source": [
    "epochs = 200\n",
    "train_loss = []\n",
    "res.train()\n",
    "res.to(device)\n",
    "# Training loop\n",
    "for epoch in range(epochs):\n",
    "\n",
    "    xb, _ = get_batch('train')\n",
    "    loss = compute_loss(xb)\n",
    "\n",
    "    optimizer.zero_grad()\n",
    "    loss.backward()\n",
    "    optimizer.step()\n",
    "\n",
    "    train_loss.append(loss.item())\n",
    "    if(epoch%100==0):\n",
    "        print(f\"Epoch {epoch+1}/{epochs}, Loss: {loss.item():.4f}\")\n"
   ]
  },
  {
   "cell_type": "code",
   "execution_count": 17,
   "id": "82a8ff66",
   "metadata": {},
   "outputs": [],
   "source": [
    "res = LLaDA(d_in=vocab_size+1, d_out=model_embedding_dim, context_size=block_size, n_heads=4, n_layers=2)"
   ]
  },
  {
   "cell_type": "code",
   "execution_count": 18,
   "id": "79bdaceb",
   "metadata": {},
   "outputs": [],
   "source": [
    "@torch.no_grad()\n",
    "def generate(model, start_prompt_ids, ans_length, sampling_steps=5, device=device):\n",
    "    model.to(device)\n",
    "    model.eval()\n",
    "\n",
    "\n",
    "    if start_prompt_ids.dim() == 1:\n",
    "        start_prompt_ids = start_prompt_ids.unsqueeze(0)\n",
    "    start_prompt_ids = start_prompt_ids.to(device)\n",
    "    prompt_length = start_prompt_ids.size(1)\n",
    "\n",
    "    current_answer_tokens = torch.full(\n",
    "        (1, ans_length),\n",
    "        fill_value=mask_ids_tokens,\n",
    "        dtype=torch.long,\n",
    "        device=device\n",
    "    )\n",
    "\n",
    "    t_initial = 1.0\n",
    "\n",
    "    for step_idx in range(sampling_steps):\n",
    "        xt_full_sequence = torch.cat((start_prompt_ids, current_answer_tokens), dim=1)\n",
    "        \n",
    "        if xt_full_sequence.size(1) > model.context_size:\n",
    "            raise ValueError(\n",
    "                f\"Input sequence length ({xt_full_sequence.size(1)}) exceeds model's context_size ({model.context_size}). \"\n",
    "                f\"Prompt length: {prompt_length}, Answer length: {ans_length}.\"\n",
    "            )\n",
    "\n",
    "        logits_full_sequence = model(xt_full_sequence)\n",
    "        \n",
    "        logits_answer_part = logits_full_sequence[:, prompt_length:, :]\n",
    "\n",
    "        r0_predicted_answer = torch.argmax(logits_answer_part, dim=-1)\n",
    "\n",
    "        probabilities = F.softmax(logits_answer_part.to(torch.float64), dim=-1)\n",
    "        confidence_scores_answer = torch.gather(\n",
    "            probabilities, \n",
    "            -1, \n",
    "            r0_predicted_answer.unsqueeze(-1)\n",
    "        ).squeeze(-1).to(torch.float32)\n",
    "\n",
    "        # Remasking (Low-Confidence Strategy)\n",
    "        t_current_for_remasking = t_initial - (step_idx / sampling_steps)\n",
    "        t_next_for_remasking = t_initial - ((step_idx + 1) / sampling_steps)\n",
    "        \n",
    "        if t_current_for_remasking <= 1e-6:\n",
    "            num_tokens_to_remask_for_next_step = 0\n",
    "        else:\n",
    "            num_tokens_to_remask_for_next_step = int(ans_length * (t_next_for_remasking / t_current_for_remasking))\n",
    "        \n",
    "        num_tokens_to_remask_for_next_step = max(0, min(ans_length, num_tokens_to_remask_for_next_step))\n",
    "\n",
    "        next_answer_tokens = r0_predicted_answer.clone()\n",
    "\n",
    "        if num_tokens_to_remask_for_next_step > 0:\n",
    "            is_currently_masked_in_answer = (current_answer_tokens == mask_ids_tokens)\n",
    "\n",
    "            confidence_for_remasking_selection = torch.where(\n",
    "                is_currently_masked_in_answer,\n",
    "                confidence_scores_answer,\n",
    "                torch.tensor(float('inf'), device=device)\n",
    "            )\n",
    "            \n",
    "            sorted_confidence_indices = confidence_for_remasking_selection.argsort(dim=-1, descending=False)\n",
    "            \n",
    "            remask_indices_in_answer = sorted_confidence_indices[:, :num_tokens_to_remask_for_next_step]\n",
    "\n",
    "            # Apply remasking\n",
    "            next_answer_tokens.scatter_(1, remask_indices_in_answer, mask_ids_tokens)\n",
    "        \n",
    "        previously_unmasked_positions = (current_answer_tokens != mask_ids_tokens)\n",
    "        next_answer_tokens[previously_unmasked_positions] = r0_predicted_answer[previously_unmasked_positions]\n",
    "\n",
    "\n",
    "        current_answer_tokens = next_answer_tokens\n",
    "\n",
    "        if not torch.any(current_answer_tokens == mask_ids_tokens):\n",
    "            break\n",
    "            \n",
    "    final_response_ids = current_answer_tokens.squeeze(0)\n",
    "            \n",
    "    return final_response_ids"
   ]
  },
  {
   "cell_type": "code",
   "execution_count": 19,
   "id": "55420bea",
   "metadata": {},
   "outputs": [],
   "source": [
    "start_prompt = \"how are you?\"\n",
    "start_prompt = encode(start_prompt)\n",
    "start_prompt = torch.tensor(start_prompt)"
   ]
  },
  {
   "cell_type": "code",
   "execution_count": 20,
   "id": "a84134d8",
   "metadata": {},
   "outputs": [
    {
     "data": {
      "text/plain": [
       "tensor([43, 50, 58,  1, 36, 53, 40,  1, 60, 50, 56, 12])"
      ]
     },
     "execution_count": 20,
     "metadata": {},
     "output_type": "execute_result"
    }
   ],
   "source": [
    "start_prompt"
   ]
  },
  {
   "cell_type": "code",
   "execution_count": 21,
   "id": "81437b9e",
   "metadata": {},
   "outputs": [],
   "source": [
    "result = generate(res, start_prompt_ids=start_prompt, ans_length=128, sampling_steps=20)"
   ]
  },
  {
   "cell_type": "code",
   "execution_count": 22,
   "id": "6513c865",
   "metadata": {},
   "outputs": [],
   "source": [
    "result = result.detach().cpu()\n"
   ]
  },
  {
   "cell_type": "code",
   "execution_count": 23,
   "id": "5f51858f",
   "metadata": {},
   "outputs": [
    {
     "name": "stdout",
     "output_type": "stream",
     "text": [
      "pA ppAvp zppv N NspaE AEecsNEAsoEc HvscPv_ ccv Fs_ sPErptE Dc AOaopAp-)!sa E OpHcEpAsccpppvpseAcv toyo Op pEHcc vOpEc!)csAfs cp \n"
     ]
    }
   ],
   "source": [
    "decoded_ids_list = [token_id.item() for token_id in result]\n",
    "\n",
    "decoded_text = decode(decoded_ids_list)\n",
    "print(decoded_text)"
   ]
  },
  {
   "cell_type": "code",
   "execution_count": null,
   "id": "abaa696f",
   "metadata": {},
   "outputs": [],
   "source": []
  }
 ],
 "metadata": {
  "kernelspec": {
   "display_name": ".mlenv",
   "language": "python",
   "name": "python3"
  },
  "language_info": {
   "codemirror_mode": {
    "name": "ipython",
    "version": 3
   },
   "file_extension": ".py",
   "mimetype": "text/x-python",
   "name": "python",
   "nbconvert_exporter": "python",
   "pygments_lexer": "ipython3",
   "version": "3.10.12"
  }
 },
 "nbformat": 4,
 "nbformat_minor": 5
}
