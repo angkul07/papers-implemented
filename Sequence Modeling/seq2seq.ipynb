{
 "cells": [
  {
   "cell_type": "code",
   "execution_count": 1,
   "metadata": {},
   "outputs": [
    {
     "name": "stderr",
     "output_type": "stream",
     "text": [
      "/home/angkul/my_data/coding/agi/.mlenv/lib/python3.10/site-packages/tqdm/auto.py:21: TqdmWarning: IProgress not found. Please update jupyter and ipywidgets. See https://ipywidgets.readthedocs.io/en/stable/user_install.html\n",
      "  from .autonotebook import tqdm as notebook_tqdm\n"
     ]
    }
   ],
   "source": [
    "from datasets import load_dataset, DatasetDict, Dataset\n",
    "from transformers import AutoTokenizer\n",
    "import torch"
   ]
  },
  {
   "cell_type": "code",
   "execution_count": 2,
   "metadata": {},
   "outputs": [],
   "source": [
    "dataset = load_dataset(\"cfilt/iitb-english-hindi\")"
   ]
  },
  {
   "cell_type": "code",
   "execution_count": 3,
   "metadata": {},
   "outputs": [
    {
     "data": {
      "text/plain": [
       "DatasetDict({\n",
       "    train: Dataset({\n",
       "        features: ['translation'],\n",
       "        num_rows: 1659083\n",
       "    })\n",
       "    validation: Dataset({\n",
       "        features: ['translation'],\n",
       "        num_rows: 520\n",
       "    })\n",
       "    test: Dataset({\n",
       "        features: ['translation'],\n",
       "        num_rows: 2507\n",
       "    })\n",
       "})"
      ]
     },
     "execution_count": 3,
     "metadata": {},
     "output_type": "execute_result"
    }
   ],
   "source": [
    "dataset"
   ]
  },
  {
   "cell_type": "code",
   "execution_count": 4,
   "metadata": {},
   "outputs": [],
   "source": [
    "# dataset['train'][0]['translation']['en']\n",
    "train_subset = dataset['train']['translation'][:10]"
   ]
  },
  {
   "cell_type": "code",
   "execution_count": 5,
   "metadata": {},
   "outputs": [
    {
     "data": {
      "text/plain": [
       "{'en': 'Give your application an accessibility workout',\n",
       " 'hi': 'अपने अनुप्रयोग को पहुंचनीयता व्यायाम का लाभ दें'}"
      ]
     },
     "execution_count": 5,
     "metadata": {},
     "output_type": "execute_result"
    }
   ],
   "source": [
    "dataset['train']['translation'][0]"
   ]
  },
  {
   "cell_type": "code",
   "execution_count": 17,
   "metadata": {},
   "outputs": [
    {
     "name": "stdout",
     "output_type": "stream",
     "text": [
      "Give your application an accessibility workout\n"
     ]
    }
   ],
   "source": [
    "for ex in dataset['train']['translation']:\n",
    "    print(ex['en'])\n",
    "    break"
   ]
  },
  {
   "cell_type": "code",
   "execution_count": 6,
   "metadata": {},
   "outputs": [
    {
     "data": {
      "text/plain": [
       "[{'en': 'Give your application an accessibility workout',\n",
       "  'hi': 'अपने अनुप्रयोग को पहुंचनीयता व्यायाम का लाभ दें'},\n",
       " {'en': 'Accerciser Accessibility Explorer',\n",
       "  'hi': 'एक्सेर्साइसर पहुंचनीयता अन्वेषक'},\n",
       " {'en': 'The default plugin layout for the bottom panel',\n",
       "  'hi': 'निचले पटल के लिए डिफोल्ट प्लग-इन खाका'},\n",
       " {'en': 'The default plugin layout for the top panel',\n",
       "  'hi': 'ऊपरी पटल के लिए डिफोल्ट प्लग-इन खाका'},\n",
       " {'en': 'A list of plugins that are disabled by default',\n",
       "  'hi': 'उन प्लग-इनों की सूची जिन्हें डिफोल्ट रूप से निष्क्रिय किया गया है'},\n",
       " {'en': 'Highlight duration', 'hi': 'अवधि को हाइलाइट रकें'},\n",
       " {'en': 'The duration of the highlight box when selecting accessible nodes',\n",
       "  'hi': 'पहुंचनीय आसंधि (नोड) को चुनते समय हाइलाइट बक्से की अवधि'},\n",
       " {'en': 'Highlight border color',\n",
       "  'hi': 'सीमांत (बोर्डर) के रंग को हाइलाइट करें'},\n",
       " {'en': 'The color and opacity of the highlight border.',\n",
       "  'hi': 'हाइलाइट किए गए सीमांत का रंग और अपारदर्शिता। '},\n",
       " {'en': 'Highlight fill color', 'hi': 'भराई के रंग को हाइलाइट करें'}]"
      ]
     },
     "execution_count": 6,
     "metadata": {},
     "output_type": "execute_result"
    }
   ],
   "source": [
    "train_subset"
   ]
  },
  {
   "cell_type": "code",
   "execution_count": 7,
   "metadata": {},
   "outputs": [],
   "source": [
    "hi_data = []\n",
    "en_data = []\n",
    "\n",
    "for i in range(len(train_subset)):\n",
    "    hi_data.append(train_subset[i]['hi'])\n",
    "    en_data.append(train_subset[i]['en'])"
   ]
  },
  {
   "cell_type": "code",
   "execution_count": 8,
   "metadata": {},
   "outputs": [
    {
     "name": "stdout",
     "output_type": "stream",
     "text": [
      "['अपने अनुप्रयोग को पहुंचनीयता व्यायाम का लाभ दें', 'एक्सेर्साइसर पहुंचनीयता अन्वेषक', 'निचले पटल के लिए डिफोल्ट प्लग-इन खाका', 'ऊपरी पटल के लिए डिफोल्ट प्लग-इन खाका', 'उन प्लग-इनों की सूची जिन्हें डिफोल्ट रूप से निष्क्रिय किया गया है', 'अवधि को हाइलाइट रकें', 'पहुंचनीय आसंधि (नोड) को चुनते समय हाइलाइट बक्से की अवधि', 'सीमांत (बोर्डर) के रंग को हाइलाइट करें', 'हाइलाइट किए गए सीमांत का रंग और अपारदर्शिता। ', 'भराई के रंग को हाइलाइट करें']\n"
     ]
    }
   ],
   "source": [
    "print(hi_data)"
   ]
  },
  {
   "cell_type": "code",
   "execution_count": 18,
   "metadata": {},
   "outputs": [
    {
     "name": "stderr",
     "output_type": "stream",
     "text": [
      "/home/angkul/my_data/coding/agi/.mlenv/lib/python3.10/site-packages/transformers/models/marian/tokenization_marian.py:175: UserWarning: Recommended: pip install sacremoses.\n",
      "  warnings.warn(\"Recommended: pip install sacremoses.\")\n"
     ]
    }
   ],
   "source": [
    "tokenizer = AutoTokenizer.from_pretrained(\"Helsinki-NLP/opus-mt-en-hi\")\n",
    "\n",
    "# Tokenize English sentences\n",
    "en_tokenized = tokenizer(en_data, return_tensors=\"pt\", padding=True, truncation=True)\n",
    "\n",
    "# Tokenize Hindi sentences\n",
    "hi_tokenized = tokenizer(hi_data, return_tensors=\"pt\", padding=True, truncation=True)\n",
    "\n",
    "# Encoder input (English sentences)\n",
    "encoder_input_ids = en_tokenized[\"input_ids\"]\n",
    "encoder_attention_mask = en_tokenized[\"attention_mask\"]\n",
    "\n",
    "# Decoder input (Hindi sentences, shifted right by one token)\n",
    "decoder_input_ids = hi_tokenized[\"input_ids\"][:, :-1]  # Remove the last token\n",
    "decoder_attention_mask = hi_tokenized[\"attention_mask\"][:, :-1]\n",
    "\n",
    "# Decoder target (Hindi sentences, shifted left by one token)\n",
    "decoder_target_ids = hi_tokenized[\"input_ids\"][:, 1:]  # Remove the first token"
   ]
  },
  {
   "cell_type": "code",
   "execution_count": 20,
   "metadata": {},
   "outputs": [],
   "source": [
    "from torch.utils.data import DataLoader, TensorDataset\n",
    "\n",
    "# Create a TensorDataset\n",
    "data = TensorDataset(encoder_input_ids, encoder_attention_mask, decoder_input_ids, decoder_attention_mask, decoder_target_ids)\n",
    "\n",
    "# Create a DataLoader\n",
    "batch_size = 8\n",
    "dataloader = DataLoader(data, batch_size=batch_size, shuffle=True)"
   ]
  },
  {
   "cell_type": "code",
   "execution_count": null,
   "metadata": {},
   "outputs": [],
   "source": []
  }
 ],
 "metadata": {
  "kernelspec": {
   "display_name": ".mlenv",
   "language": "python",
   "name": "python3"
  },
  "language_info": {
   "codemirror_mode": {
    "name": "ipython",
    "version": 3
   },
   "file_extension": ".py",
   "mimetype": "text/x-python",
   "name": "python",
   "nbconvert_exporter": "python",
   "pygments_lexer": "ipython3",
   "version": "3.10.12"
  }
 },
 "nbformat": 4,
 "nbformat_minor": 2
}
