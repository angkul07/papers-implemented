{
 "cells": [
  {
   "cell_type": "markdown",
   "metadata": {},
   "source": [
    "### implementing the word2vec"
   ]
  },
  {
   "cell_type": "code",
   "execution_count": 1,
   "metadata": {},
   "outputs": [],
   "source": [
    "import re\n",
    "import numpy as np\n",
    "import torch.nn as nn \n",
    "import torch"
   ]
  },
  {
   "cell_type": "code",
   "execution_count": 2,
   "metadata": {},
   "outputs": [],
   "source": [
    "# reading the file\n",
    "# txt = \"\"\"We are about to study the idea of a computational process.\n",
    "# Computational processes are abstract beings that inhabit computers.\n",
    "# As they evolve, processes manipulate other abstract things called data.\n",
    "# The evolution of a process is directed by a pattern of rules\n",
    "# called a program. People create programs to direct processes. In effect,\n",
    "# we conjure the spirits of the computer with our spells.\"\"\""
   ]
  },
  {
   "cell_type": "code",
   "execution_count": 3,
   "metadata": {},
   "outputs": [],
   "source": [
    "txt = \"\"\"\n",
    "घृणा से घृणा उत्पन्न होती है। प्रेम से प्रेम। ज्ञान भी बड़े भाई को चाहता था। कभी-कभी उसका पक्ष ले कर अपनी माँ से वाद-विवाद कर कहता भैया की अचकन फट गयी है आप नयी अचकन क्यों नहीं बनवा देतीं माँ उत्तर देती-उसके लिए वही अचकन अच्छी है। अभी क्या कभी तो वह नंगा फिरेगा। ज्ञानप्रकाश बहुत चाहता था कि अपने जेब-खर्च से बचा कर कुछ अपने भाई को दे पर सत्यप्रकाश कभी इसे स्वीकार न करता था। वास्तव में जितनी देर वह छोटे भाई के साथ रहता उतनी देर उसे एक शांतिमय आनन्द का अनुभव होता। थोड़ी देर के लिए वह सद्भावों के साम्राज्य में विचरने लगता। उसके मुख से कोई भद्दी और अप्रिय बात न निकलती। एक क्षण के लिए उसकी सोयी हुई आत्मा जाग उठती।\n",
    "\"\"\""
   ]
  },
  {
   "cell_type": "code",
   "execution_count": 4,
   "metadata": {},
   "outputs": [],
   "source": [
    "# removing the special chars\n",
    "# txt = re.sub('[^A-Za-z0-9]+', ' ', txt)\n",
    "\n",
    "txt = re.sub(r'(?:^| )\\w(?:$| )', ' ', txt).strip()\n",
    "text = txt.lower()"
   ]
  },
  {
   "cell_type": "code",
   "execution_count": 5,
   "metadata": {},
   "outputs": [],
   "source": [
    "# only keeping the unique words\n",
    "words = text.split()\n",
    "vocab = set(words)"
   ]
  },
  {
   "cell_type": "code",
   "execution_count": 6,
   "metadata": {},
   "outputs": [
    {
     "name": "stdout",
     "output_type": "stream",
     "text": [
      "126\n"
     ]
    }
   ],
   "source": [
    "# print(words)\n",
    "print(len(words))"
   ]
  },
  {
   "cell_type": "code",
   "execution_count": 7,
   "metadata": {},
   "outputs": [],
   "source": [
    "vocab_size = len(vocab)\n",
    "embed_dim = 10 #depends on the dataset but since our dataset is small\n",
    "context_size = 2 #how many before and after words to use."
   ]
  },
  {
   "cell_type": "code",
   "execution_count": 8,
   "metadata": {},
   "outputs": [],
   "source": [
    "# creating the token ids\n",
    "word_to_idx = {word: i for i, word in enumerate(vocab)}\n",
    "idx_to_word = {i: word for i, word in enumerate(vocab)}"
   ]
  },
  {
   "cell_type": "code",
   "execution_count": 9,
   "metadata": {},
   "outputs": [],
   "source": [
    "# data bags\n",
    "# data = [(context), target]\n",
    "\n",
    "data = []\n",
    "for i in range(2, len(words)-2):\n",
    "    context = [words[i-2], words[i-1], words[i+1], words[i+2]]\n",
    "    target = words[i]\n",
    "    data.append((context, target))"
   ]
  },
  {
   "cell_type": "code",
   "execution_count": 10,
   "metadata": {},
   "outputs": [
    {
     "data": {
      "text/plain": [
       "[(['घृणा', 'से', 'उत्पन्न', 'होती'], 'घृणा'),\n",
       " (['से', 'घृणा', 'होती', 'है।'], 'उत्पन्न'),\n",
       " (['घृणा', 'उत्पन्न', 'है।', 'प्रेम'], 'होती'),\n",
       " (['उत्पन्न', 'होती', 'प्रेम', 'से'], 'है।'),\n",
       " (['होती', 'है।', 'से', 'प्रेम।'], 'प्रेम')]"
      ]
     },
     "execution_count": 10,
     "metadata": {},
     "output_type": "execute_result"
    }
   ],
   "source": [
    "data[:5]"
   ]
  },
  {
   "cell_type": "code",
   "execution_count": 11,
   "metadata": {},
   "outputs": [
    {
     "data": {
      "text/plain": [
       "'घृणा'"
      ]
     },
     "execution_count": 11,
     "metadata": {},
     "output_type": "execute_result"
    }
   ],
   "source": [
    "context, target = data[0]\n",
    "target"
   ]
  },
  {
   "cell_type": "code",
   "execution_count": 12,
   "metadata": {},
   "outputs": [],
   "source": [
    "# create the continous BOW\n",
    "class CBOW(nn.Module):\n",
    "    def __init__(self, vocab_size, embed_dim):\n",
    "        super(CBOW, self).__init__()\n",
    "\n",
    "        # 1 x embed_dim\n",
    "        self.embeddings = nn.Embedding(vocab_size, embed_dim)\n",
    "        self.linear1 = nn.Linear(embed_dim, 128)\n",
    "        self.activation = nn.ReLU()\n",
    "\n",
    "        # 1 x vocab size\n",
    "        self.linear2 = nn.Linear(128, vocab_size)\n",
    "\n",
    "    def forward(self, inputs):\n",
    "        embeds = sum(self.embeddings(inputs)).view(1, -1)\n",
    "        out = self.linear1(embeds)\n",
    "        out = self.activation(out)\n",
    "        out = self.linear2(out)\n",
    "        return out"
   ]
  },
  {
   "cell_type": "code",
   "execution_count": 13,
   "metadata": {},
   "outputs": [],
   "source": [
    "model = CBOW(vocab_size=vocab_size, embed_dim=embed_dim)"
   ]
  },
  {
   "cell_type": "code",
   "execution_count": 14,
   "metadata": {},
   "outputs": [],
   "source": [
    "loss_fn = nn.CrossEntropyLoss()\n",
    "optimizer = torch.optim.SGD(model.parameters(), lr=0.01)"
   ]
  },
  {
   "cell_type": "code",
   "execution_count": 15,
   "metadata": {},
   "outputs": [
    {
     "name": "stdout",
     "output_type": "stream",
     "text": [
      "Epoch: 0 | Loss: 4.751509711390636\n",
      "Epoch: 10 | Loss: 1.3466401852545191\n",
      "Epoch: 20 | Loss: 0.3077082114263636\n",
      "Epoch: 30 | Loss: 0.11717897833737194\n",
      "Epoch: 40 | Loss: 0.06486773756561709\n",
      "Epoch: 50 | Loss: 0.04324681717200113\n",
      "Epoch: 60 | Loss: 0.031918366828963894\n",
      "Epoch: 70 | Loss: 0.02504454970695689\n"
     ]
    }
   ],
   "source": [
    "model.train()\n",
    "total_loss = []\n",
    "\n",
    "for epoch in range(80):\n",
    "    epoch_loss = 0\n",
    "    for context, target in data:\n",
    "        context_ids = torch.tensor([word_to_idx[w] for w in context])\n",
    "        target_id = torch.tensor([word_to_idx[target]])\n",
    "        \n",
    "        # Forward pass\n",
    "        preds = model(context_ids)\n",
    "        \n",
    "        # Calculate loss\n",
    "        loss = loss_fn(preds, target_id)\n",
    "        epoch_loss += loss.item()\n",
    "        \n",
    "        # Backward pass and optimization\n",
    "        optimizer.zero_grad()\n",
    "        loss.backward()\n",
    "        optimizer.step()\n",
    "    \n",
    "    if epoch % 10 == 0:\n",
    "        print(f'Epoch: {epoch} | Loss: {epoch_loss/len(data)}')\n",
    "\n",
    "    total_loss.append(epoch_loss)\n",
    "    "
   ]
  },
  {
   "cell_type": "code",
   "execution_count": 16,
   "metadata": {},
   "outputs": [],
   "source": [
    "import matplotlib.pyplot as plt"
   ]
  },
  {
   "cell_type": "code",
   "execution_count": 17,
   "metadata": {},
   "outputs": [
    {
     "data": {
      "text/plain": [
       "Text(0, 0.5, 'Loss')"
      ]
     },
     "execution_count": 17,
     "metadata": {},
     "output_type": "execute_result"
    },
    {
     "data": {
      "image/png": "[encoded data removed]",
      "text/plain": [
       "<Figure size 640x480 with 1 Axes>"
      ]
     },
     "metadata": {},
     "output_type": "display_data"
    }
   ],
   "source": [
    "epo = range(80)\n",
    "plt.plot(epo, total_loss)\n",
    "plt.xlabel('Epochs')\n",
    "plt.ylabel('Loss')"
   ]
  },
  {
   "cell_type": "code",
   "execution_count": 18,
   "metadata": {},
   "outputs": [],
   "source": [
    "def predict_word(context_words):\n",
    "    context_ids = torch.tensor([word_to_idx[w] for w in context_words])\n",
    "    with torch.no_grad():\n",
    "        preds = model(context_ids)\n",
    "        _, predicted_idx = torch.max(preds, 1)\n",
    "        predicted_word = idx_to_word[predicted_idx.item()]\n",
    "    return predicted_word"
   ]
  },
  {
   "cell_type": "code",
   "execution_count": 20,
   "metadata": {},
   "outputs": [
    {
     "name": "stdout",
     "output_type": "stream",
     "text": [
      "Context: ['से', 'घृणा', 'होती', 'है।']\n",
      "Predicted word: उत्पन्न\n"
     ]
    }
   ],
   "source": [
    "# Example usage\n",
    "context = ['से', 'घृणा', 'होती', 'है।']\n",
    "predicted = predict_word(context)\n",
    "print(f\"Context: {context}\")\n",
    "print(f\"Predicted word: {predicted}\")"
   ]
  },
  {
   "cell_type": "code",
   "execution_count": null,
   "metadata": {},
   "outputs": [],
   "source": []
  }
 ],
 "metadata": {
  "kernelspec": {
   "display_name": ".mlenv",
   "language": "python",
   "name": "python3"
  },
  "language_info": {
   "codemirror_mode": {
    "name": "ipython",
    "version": 3
   },
   "file_extension": ".py",
   "mimetype": "text/x-python",
   "name": "python",
   "nbconvert_exporter": "python",
   "pygments_lexer": "ipython3",
   "version": "3.10.12"
  }
 },
 "nbformat": 4,
 "nbformat_minor": 2
}
